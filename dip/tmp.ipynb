{
 "cells": [
  {
   "cell_type": "code",
   "execution_count": null,
   "metadata": {},
   "outputs": [],
   "source": [
    "import numpy as np\n",
    "import matplotlib.pyplot as plt\n",
    "import cv2\n",
    "image = cv2.imread('rgb.jpg', 1)\n",
    "image = cv2.cvtColor(image, cv2.COLOR_BGR2RGB)"
   ]
  },
  {
   "cell_type": "code",
   "execution_count": null,
   "metadata": {},
   "outputs": [],
   "source": [
    "height = image.shape[0] \n",
    "width = image.shape[1] \n",
    "color = image.shape[2]"
   ]
  },
  {
   "cell_type": "code",
   "execution_count": null,
   "metadata": {},
   "outputs": [],
   "source": [
    "print(height,width,color)"
   ]
  },
  {
   "cell_type": "code",
   "execution_count": null,
   "metadata": {},
   "outputs": [],
   "source": []
  },
  {
   "cell_type": "code",
   "execution_count": null,
   "metadata": {},
   "outputs": [],
   "source": [
    "for i in range(height):\n",
    "    for j in range(width):\n",
    "        for k in range(color):\n",
    "            image[i][j][k]"
   ]
  },
  {
   "cell_type": "code",
   "execution_count": null,
   "metadata": {},
   "outputs": [],
   "source": [
    "plt.imshow(image)"
   ]
  },
  {
   "cell_type": "code",
   "execution_count": null,
   "metadata": {},
   "outputs": [],
   "source": [
    "#Linear (Negative and Identity Transformation)\n",
    "mn=10000000000000000000\n",
    "for i in range(height):\n",
    "    for j in range(width):\n",
    "        for k in range(color):\n",
    "            mn=min(mn,image[i][j][k])\n",
    "\n",
    "\n",
    "\n",
    "newimg=np.empty(shape=(height,width,color))\n",
    "\n",
    "#s=l-1-r\n",
    "#l range[0-255]\n",
    "\n",
    "L=int(input())\n",
    "\n",
    "\n",
    "for i in range(height):\n",
    "    for j in range(width):\n",
    "        for k in range(color):\n",
    "            newimg[i][j][k]=L-1-image[i][j][k]\n",
    "            newimg[i][j][k]=max(0,newimg[i][j][k])\n",
    "            newimg[i][j][k]=min(255,newimg[i][j][k])\n",
    "            newimg[i][j][k]/=255\n",
    "            \n",
    "plt.imshow(newimg)\n",
    "\n",
    "\n"
   ]
  },
  {
   "cell_type": "code",
   "execution_count": null,
   "metadata": {},
   "outputs": [],
   "source": [
    "#logarithmic transformation\n",
    "mx=-1\n",
    "for i in range(height):\n",
    "    for j in range(width):\n",
    "        for k in range(color):\n",
    "            mx=max(mx,image[i][j][k])\n",
    "\n",
    "\n",
    "\n",
    "newimg=np.empty(shape=(height,width,color))\n",
    "#s=c*log(1+r)\n",
    "#c=255/log(1+maxpixel)\n",
    "\n",
    "c=255/np.log(1+mx)\n",
    "for i in range(height):\n",
    "    for j in range(width):\n",
    "        for k in range(color):\n",
    "            newimg[i][j][k]=c*np.log(1+image[i][j][k])\n",
    "            newimg[i][j][k]=max(0,newimg[i][j][k])\n",
    "            newimg[i][j][k]=min(255,newimg[i][j][k])\n",
    "            newimg[i][j][k]/=255\n",
    "            \n",
    "plt.imshow(newimg)"
   ]
  },
  {
   "cell_type": "code",
   "execution_count": null,
   "metadata": {},
   "outputs": [],
   "source": [
    "#Power Law or Gamma Correction transformatiom\n",
    "\n",
    "\n",
    "# use gamma value [.5 to 1.5 to get btter performace] \n",
    "# to dark 0.8 \n",
    "# to bright the image 1.2\n",
    "\n",
    "\n",
    "gamma=np.float32(input(\"Enter gamma value = \"))\n",
    "\n",
    "neg=0\n",
    "if(gamma<0):\n",
    "    neg=1\n",
    "    gamma=np.abs(gamma)\n",
    "\n",
    "newimg=np.empty(shape=(height,width,color))\n",
    "for i in range(height):\n",
    "    for j in range(width):\n",
    "        for k in range(color):\n",
    "            newimg[i][j][k]=np.power(image[i][j][k],gamma)\n",
    "            \n",
    "\n",
    "            if(neg==1):\n",
    "                newimg[i][j][k]=1/newimg[i][j][k]\n",
    "            \n",
    "           \n",
    "            newimg[i][j][k]=max(0,newimg[i][j][k])\n",
    "            newimg[i][j][k]=min(255,newimg[i][j][k])\n",
    "            newimg[i][j][k]/=255\n",
    "        \n",
    "\n",
    "\n",
    "plt.imshow(newimg)"
   ]
  }
 ],
 "metadata": {
  "kernelspec": {
   "display_name": "Python 3",
   "language": "python",
   "name": "python3"
  },
  "language_info": {
   "codemirror_mode": {
    "name": "ipython",
    "version": 3
   },
   "file_extension": ".py",
   "mimetype": "text/x-python",
   "name": "python",
   "nbconvert_exporter": "python",
   "pygments_lexer": "ipython3",
   "version": "3.9.5"
  },
  "orig_nbformat": 4
 },
 "nbformat": 4,
 "nbformat_minor": 2
}
